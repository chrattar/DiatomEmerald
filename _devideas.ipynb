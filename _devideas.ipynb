{
 "cells": [
  {
   "cell_type": "markdown",
   "metadata": {},
   "source": [
    "#### Base Ideas\n",
    "* Base particles with brownian motion\n",
    "* Have the particles eat food from the environment that is randomly generated\n",
    "* Initial particles will be based on Brownian motion, but later animals should have some sort of direction in order to move toward food and away from predatory entities.\n",
    "* I want to make a static organism like a hydra\n",
    "\n",
    "#### Food\n",
    "\n",
    "* Food for the particle to eat. - Eating is required to stay alive\n",
    "* Create a timer for resource use for the particles. As they exist, they slowly use energy. If they do not get food after a certain number of iterations in the program, they will die. The body could eventually convert to food for another particle\n",
    "* Need to set up the timer for the class before they disappear\n",
    "* need to make a class in def main to update the particle every iteration before it is drawn to the screen.\n",
    "* Should the food disappear after a time after it randomly spawns?\n",
    "* How do i group the food to take advantage of different environments\n",
    "#### Size Issues\n",
    "\n",
    "\n",
    "#### Environment and Map Area\n",
    "* Make the map scrollable to allow for a larger area to be explored by the organisms\n",
    "* How do we set the environmental conditions? Have the entities have an internal temperature\n",
    "* Hydrothermal vent areas at later point. Stimulate more intense evolutionary processes\n",
    "* Environmental Mutation factors - certain areas will have stronger environmental stimuli\n",
    "\n",
    "#### Animals\n",
    "* Number of animals to add? Initially just random particles that would exist on diatoms or something similar.\n",
    "* Mutations from environmental factors (radiation) but also random mutations inside the animals\n",
    "* Adjust the rate of the energy consumption. Different animals will have different rates. Larger animals burn energy at a lower rate, but have less movement."
   ]
  },
  {
   "cell_type": "markdown",
   "metadata": {},
   "source": []
  }
 ],
 "metadata": {
  "language_info": {
   "name": "python"
  }
 },
 "nbformat": 4,
 "nbformat_minor": 2
}
