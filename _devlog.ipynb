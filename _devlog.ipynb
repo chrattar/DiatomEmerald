{
 "cells": [
  {
   "cell_type": "markdown",
   "metadata": {},
   "source": [
    "## DEVELOPMENT LOG\n",
    "#### 2024-01-31\n",
    "* Started with the title emerald. I don't really know why\n",
    "* Started the simulation files today\n",
    "* Made very first particle png\n",
    "* main.py, settings.py, assets_loader.py\n",
    "* Initialized all the pygame windows (maybe make bigger, scrolling field for later date)\n",
    "* Started a notebook with all my ideas.\n",
    "* This log is only going to be for what is accomplished so I can keep track and keep myself honest.\n",
    "#### 2024-02-01\n",
    "* Added plant class\n",
    "* Allowed particles to consume the plants that are in existence\n",
    "* Added energy bar over the paricle that shows how much energy is remaining as it exist."
   ]
  },
  {
   "cell_type": "markdown",
   "metadata": {},
   "source": []
  },
  {
   "cell_type": "markdown",
   "metadata": {},
   "source": []
  }
 ],
 "metadata": {
  "language_info": {
   "name": "python"
  }
 },
 "nbformat": 4,
 "nbformat_minor": 2
}
