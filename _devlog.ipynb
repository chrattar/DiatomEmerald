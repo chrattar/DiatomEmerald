31-01-2024
* Started with the title emerald. I don't really know why
* Started the simulation files today
* Made very first particle png
* main.py, settings.py, assets_loader.py
* Initialized all the pygame windows (maybe make bigger, scrolling field for later date)
* Started a notebook with all my ideas.
* This log is only going to be for what is accomplished so I can keep track and keep myself honest.

01-02-2024
* Added plant class
* Allowed particles to consume the plants that are in existence
* Added energy bar to display over the particles

02-02-2024
* Changed background to teal blue (0,155,155)
* Changed the energy bar size to smaller.
* Changed the energy bar to be red on black background

03-02-2024
* Set plants to regenerate after being eaten
* Make sure that the draw call only appears once 
- `consume_plant` method in the `Particle` class only sets the plant's `active` status to `False` and assigns a `regeneration_time`. It should not remove the plant from the `plants` list.
- Ensure the `regeneration_delay` is defined with an appropriate value (e.g., `5000` for 5 seconds) before it's used to set the `regeneration_time`.

04-02-2024
* Changed the settings.py to config.py
* altered all of the references to cfg
* Changed 'particle' to 'cell'
* Left off at setting maximum particle energy
* Start saving screenshots of all of the development process.
* Create divide method in my Cell class
* Set the cell division too high. Start energy needs to be brought down and regren rates brought up
* Set plants to respawn CLOSE to where they were initially spawned as if they were the seeds of the previous generation. This has the effect of allowing the groups of animals eating around there to revise their existence very excessively
* Need to add sliders with initial conditions
* Added Cell and Plant Count

05-02-2024
* Tried running with 3000 plants and 10 cells to start. Reached about 997 cells before it trended back down to collapse
* Energy was set at 20% of total energy 100/500 per plant eaten. We should take that down a bit as that seems unreasonably high
* Need to change the cell colors to purple instead of mishmash that i made them

06-02-2024
* Added the predator bacteriophage
* Made it a small red model in paint
* Added basic functionality to draw it to the screen

08-02-2024
* Preds are eating the cells, but the cells are not eating the plants now 
* Fixed predators to have energy decay
* The main loop was not functioning as expected and what not correctly allowing the plants to eat. I needed to change the indentation levels until it worked
* Cells Eat Plants, Predators eat cells
* Need to start charting the performance of each so that I can document the levels

12-02-2024
* Tried to implement logging again
* Not working as expected

13-02-2024
* Determine how to implement the mutation rate of the cells
* Dictionary of mutation options.

22-02-2024
* Create class inheritance for Predator Mutation
* Create class inheritance for Cell Mutation
* Plant Seed Energy changed: self.energy = energy_plant * random.random(-1.0,1.0)
* moved all classes to entities.py to clean up the main file

27-02-2024
* renaming the cell/predator/plant name in config.py and adjusting the names in entities.py and main.py
* Need to finish the logic for cell mutation but I am struggling.

14-03-2024
* Busy with building furniture and dealing with stuff for the new house. Had almost no time to work on this over last few weeks.
* Forgot I created a main-01.py to try out all the new features. This is the new live version of my the program
* Plants don't seem to be refreshing, need to review this

12-04-2024
* Moving and renovations have been occurring for the last month of my life. Let's get into this and make a noticeable
* plant.active will only proc if the plant is NON-ACTIVE, so they are not spawning by default without being eaten. But even eaten ones are not respawning.
* Add plant energy but have it generate slowly. when it reaches a certain level, use the same as the cell.update() method to have it spawn very close to the original one.

21-04-2024
* Need to make condition, if plant.active and plant.alive time is some multiple. it needs to be 30 sec 

14-05-2024
* Went to test the status as I have not worked on this for a very long time.
* Got up, went to talk to someone at the office and I came back to 96% memory utilization and 94,371,840 plants, with nothing else. So I guess whatever code changes I made allowed the plants to proliferate
* I didn't let it run for long enough previously to see that my code was working mostly as intended.
* I need to put some serious thought into how to level up the simulation
* Plants double every 30 seconds. Found the relevant line
* How do I remove a random number of plants from a list based on a decay function.

12-06-2024
* Added selection screen
* added sliders to control starting variables (only number of entities for now)
* Created a new file to load configuration entities separate from actual game entities.
* What does the position of each diatom look like in terms of a random walk. How accurately can I model Brownian motion?

13-06-2024
* Weird behaviour. If I hold the LMB down AND move the mouse, everything updates much faster. If I don't do it, it clicks through as though lagging.

14-06-2024
* I think the issue that I found was due to the event handler. The screen only updates while I move the cursor.
Optimize the Game Loop
Make sure that only essential calculations and rendering happen within your game loop.

Reduce Drawing Calls
Only redraw parts of the screen that have changed instead of redrawing the entire screen every frame.

Efficient Collision Detection
Optimize how you handle collisions and updates for entities. Using spatial partitioning techniques like grids or quadtrees can significantly improve performance.

Profile Your Code
Identify the bottlenecks in your code by profiling it. You can use Python’s built-in `cProfile` module or other profiling tools to see which parts of your code are the slowest.
 
Batch Rendering
If possible, batch similar rendering calls together to reduce the overhead of multiple drawing calls.

Use `pygame.sprite` Classes
Pygame’s sprite groups can manage drawing and updating groups of sprites more efficiently.

15-06-2024
* Added text input boxes beside the sliders as a quality of life improvement and totally ruined the screen display. 
* ChatGPT gave me some erroneous advice for updating the screen
* UNRELATED: Child following drone.
21-02-2025
* Add the sunlight to the plants
* Add Monte Carlo Simulation
* Add Timer for each round
* Add  counter to log
* How about adding an omnivore
* Key changes:

1. Reduced division cooldown to 5 seconds
2. Removed energy threshold temporarily to test replication
3. Reduced energy decay rate
4. Ensured new plants are active and visible

Also, check in your main loop that:

1. The plants list is being properly maintained
2. Plants aren't being accidentally removed
3. The update method is being called regularly
* Log each run to a csv file
* Change the spawn distance of the new entities

2025-02-22
* Change the direction that plants respawn at random
* Add upper and lower bounds on predator division
* Set predator max energy
* We want sinusoidal growth and decay for the program
* I am assuming that if we can find this aspect, it will be correct at making the most stable ecosystem
